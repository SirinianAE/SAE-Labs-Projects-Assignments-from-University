{
 "cells": [
  {
   "cell_type": "code",
   "execution_count": 1,
   "metadata": {
    "collapsed": true
   },
   "outputs": [],
   "source": [
    "#Name: Sirinian Aram Emmanouil\n",
    "#AM: 2537\n",
    "import pandas as pd\n",
    "import pandas_datareader.data as web\n",
    "from pandas import Series, DataFrame\n",
    "import matplotlib.pyplot as plt\n",
    "import matplotlib as mpl\n",
    "import seaborn as sns\n",
    "import numpy as np\n",
    "from datetime import datetime\n",
    "from collections import Counter\n",
    "import json\n",
    "import time\n",
    "import random\n",
    "import scipy.sparse as sp_sparse\n",
    "import sklearn.metrics.pairwise as cossim\n",
    "import heapq\n",
    "import math\n",
    "from operator import itemgetter\n",
    "%matplotlib inline"
   ]
  },
  {
   "cell_type": "code",
   "execution_count": 2,
   "metadata": {
    "collapsed": true
   },
   "outputs": [],
   "source": [
    "def UpdateBusinessCount(business_id):\n",
    "    business_data[business_id] +=1\n",
    "\n",
    "def UpdateUserCount(user_id):\n",
    "    user_data[user_id] +=1"
   ]
  },
  {
   "cell_type": "code",
   "execution_count": 3,
   "metadata": {
    "collapsed": true
   },
   "outputs": [],
   "source": [
    "user_data = {}\n",
    "business_data = {}\n",
    "review_data = []\n",
    "tempArray = []\n",
    "flag = True\n",
    "old_len_of_review_data = 99999999\n",
    "new_len_of_review_data = 0\n",
    "user_data_g9 = set()\n",
    "business_data_g9 = set()\n",
    "\n",
    "while( (old_len_of_review_data - new_len_of_review_data) > 0 ):\n",
    "    if(flag):   \n",
    "        with open('business.json') as f:\n",
    "            for line in f:\n",
    "                try:\n",
    "                    if(json.loads(line.strip())[\"city\"] == \"Toronto\"):\n",
    "                        business_data[(json.loads(line.strip())[\"business_id\"])] = 0\n",
    "                except ValueError:\n",
    "                    pass\n",
    "\n",
    "        with open('review.json') as f:\n",
    "            for line in f:\n",
    "                try:\n",
    "                    x = json.loads(line.strip())\n",
    "                    if((x[\"user_id\"]) in user_data):\n",
    "                        UpdateUserCount(x[\"user_id\"])\n",
    "                    if((x[\"user_id\"]) not in user_data):\n",
    "                        user_data[(x[\"user_id\"])] = 1\n",
    "                    if((x[\"business_id\"]) in business_data):\n",
    "                        UpdateBusinessCount(x[\"business_id\"])\n",
    "                    review_data.append((x[\"user_id\"], x[\"business_id\"], x[\"stars\"]))\n",
    "                except ValueError:\n",
    "                    pass\n",
    "\n",
    "        flag = False\n",
    "    else:\n",
    "        tempArray = []\n",
    "        for x in review_data:\n",
    "            tempArray.append(x[0])\n",
    "        tempArray = set(tempArray)\n",
    "        for x in tempArray:\n",
    "            user_data[x] = 0\n",
    "\n",
    "        tempArray = []\n",
    "        for x in review_data:\n",
    "            tempArray.append(x[1])\n",
    "        tempArray = set(tempArray)\n",
    "        for x in tempArray:\n",
    "            business_data[x] = 0\n",
    "\n",
    "        for x in review_data:\n",
    "            if((x[0]) in user_data):\n",
    "                UpdateUserCount(x[0])\n",
    "            if((x[1]) in business_data):\n",
    "                UpdateBusinessCount(x[1])\n",
    "\n",
    "    old_len_of_review_data = len(review_data)\n",
    "\n",
    "    tempArray = []\n",
    "    for key, value in user_data.items():\n",
    "        if(value>9):\n",
    "            tempArray.append(key)\n",
    "    user_data_g9 = set(tempArray)\n",
    "\n",
    "    tempArray = []\n",
    "    for key, value in business_data.items():\n",
    "        if(value>9):\n",
    "            tempArray.append(key)\n",
    "    business_data_g9 = set(tempArray)\n",
    "\n",
    "    tempArray = []\n",
    "    for x in review_data:\n",
    "        if( (x[0] in user_data_g9) and (x[1] in business_data_g9) ):\n",
    "            tempArray.append((x[0], x[1], x[2]))\n",
    "    review_data = tempArray\n",
    "\n",
    "    new_len_of_review_data = len(review_data)"
   ]
  },
  {
   "cell_type": "code",
   "execution_count": 4,
   "metadata": {
    "collapsed": true
   },
   "outputs": [],
   "source": [
    "###################### Remove random 10% #############################\n",
    "number_of_ratings = len(review_data)\n",
    "ps10 = (int) (abs( (number_of_ratings * 10) / 100 ))\n",
    "random_ps10 = []\n",
    "\n",
    "for i in range(ps10):\n",
    "    number_of_ratings = len(review_data)\n",
    "    random_ps10.append( review_data.pop( random.choice(range(number_of_ratings + 1)) ) )"
   ]
  },
  {
   "cell_type": "code",
   "execution_count": 5,
   "metadata": {
    "collapsed": true
   },
   "outputs": [],
   "source": [
    "######################################################################\n",
    "tempArray = []\n",
    "tempArray2 = []\n",
    "review_data2_dict = {}\n",
    "for x in review_data:\n",
    "    tempArray.append(x[0])\n",
    "    tempArray2.append(x[1])\n",
    "user_data_g9 = set(tempArray)\n",
    "business_data_g9 = set(tempArray2)\n",
    "tempArray = []\n",
    "tempArray2 = []\n",
    "user_data_g9 = list(user_data_g9)\n",
    "business_data_g9 = list(business_data_g9)\n",
    "\n",
    "review_data2 = [list(x) for x in review_data]\n",
    "for x in review_data2:\n",
    "    x[0] = user_data_g9.index(x[0])\n",
    "    x[1] = business_data_g9.index(x[1])\n",
    "    review_data2_dict[x[0], x[1]] = x[2]"
   ]
  },
  {
   "cell_type": "code",
   "execution_count": 6,
   "metadata": {
    "collapsed": true
   },
   "outputs": [],
   "source": [
    "row = [] # user_data_g9\n",
    "col = [] # business_data_g9\n",
    "data = [] # ratings\n",
    "\n",
    "for x in review_data2:\n",
    "    row.append(x[0])\n",
    "    col.append(x[1])\n",
    "    data.append(x[2])"
   ]
  },
  {
   "cell_type": "code",
   "execution_count": 7,
   "metadata": {
    "collapsed": true
   },
   "outputs": [],
   "source": [
    "M = sp_sparse.csr_matrix((data,(row,col)))\n",
    "M = sp_sparse.lil_matrix(M)"
   ]
  },
  {
   "cell_type": "code",
   "execution_count": 8,
   "metadata": {
    "collapsed": true
   },
   "outputs": [],
   "source": [
    "####### User Average (UA) & Business Average (BA) ########\n",
    "(x,y,z) = sp_sparse.find(M)\n",
    "countings = np.bincount(x)\n",
    "sums=np.bincount(x,weights=z)\n",
    "averages_of_M = sums/countings\n",
    "\n",
    "(x,y,z) = sp_sparse.find(M.T)\n",
    "countings = np.bincount(x)\n",
    "sums=np.bincount(x,weights=z)\n",
    "averages_of_MT = sums/countings\n",
    "\n",
    "def getUA(user):\n",
    "    return averages_of_M[user_data_g9.index(user)]\n",
    "\n",
    "def getBA(business):\n",
    "    return averages_of_MT[business_data_g9.index(business)]"
   ]
  },
  {
   "cell_type": "code",
   "execution_count": 9,
   "metadata": {
    "collapsed": true
   },
   "outputs": [],
   "source": [
    "##### 4. User-based Collaborative Filtering (UCF) #####\n",
    "\n",
    "def normalizedCosineSimilarity(array1, array2):\n",
    "    tempArray = [array1, array2]\n",
    "    tempM = sp_sparse.lil_matrix(tempArray)\n",
    "    tempM = tempM[:,:] * 0.1\n",
    "    \n",
    "    (x,y,z) = sp_sparse.find(tempM)\n",
    "    countings = np.bincount(x)\n",
    "    sums=np.bincount(x,weights=z)\n",
    "    averages_of_tempM = sums/countings\n",
    "    \n",
    "    for i in range(tempM.shape[0]):\n",
    "        for j in range(tempM.shape[1]):\n",
    "            if(tempM[i,j]>0):\n",
    "                tempM[i,j] = tempM[i,j] - averages_of_tempM[i]\n",
    "    \n",
    "    if(cossim.cosine_similarity(tempM)[0,1] < 1):\n",
    "        return 1\n",
    "    elif(cossim.cosine_similarity(tempM)[0,1] > 5):\n",
    "        return 5\n",
    "    else:\n",
    "        return cossim.cosine_similarity(tempM)[0,1]"
   ]
  },
  {
   "cell_type": "code",
   "execution_count": 10,
   "metadata": {
    "collapsed": true
   },
   "outputs": [],
   "source": [
    "def mostSimilarUsers(user, business, k):\n",
    "    user_id = user_data_g9.index(user)\n",
    "    business_id = business_data_g9.index(business)\n",
    "    temp_similarity_dict = {}\n",
    "    \n",
    "    tempArray = []\n",
    "    tempArray2 = []\n",
    "    tempArray2 = M.T[business_id].toarray().tolist()[0]\n",
    "    for i in range(len(tempArray2)):\n",
    "        if(tempArray2[i] > 0):\n",
    "            tempArray.append(i)\n",
    "    \n",
    "    for i in tempArray:\n",
    "        temp_normalized_cosine_similarity = normalizedCosineSimilarity(M[user_id].toarray().tolist()[0], M[i].toarray().tolist()[0])\n",
    "        temp_similarity_dict[i] = temp_normalized_cosine_similarity\n",
    "    k_top_items = heapq.nlargest(n=k, iterable=temp_similarity_dict.items(), key=itemgetter(1))\n",
    "    return dict(k_top_items)"
   ]
  },
  {
   "cell_type": "code",
   "execution_count": 11,
   "metadata": {
    "collapsed": true
   },
   "outputs": [],
   "source": [
    "def equationUCF(user, business, k):\n",
    "    user_id = user_data_g9.index(user)\n",
    "    business_id = business_data_g9.index(business)\n",
    "    user_mean = getUA(user)\n",
    "    p = user_mean\n",
    "    temp_numerator = 0\n",
    "    temp_denominator = 0\n",
    "    most_similar_users = mostSimilarUsers(user, business, k)\n",
    "    most_similar_users_keys = list(most_similar_users.keys())\n",
    "    \n",
    "    range_of_most_similar_users = len(most_similar_users_keys)\n",
    "    \n",
    "    for i in range(range_of_most_similar_users):\n",
    "        similarity_user_user2 = 0\n",
    "        user2_rating = 0\n",
    "        user2_mean = 0\n",
    "        #####\n",
    "        similarity_user_user2 = most_similar_users[most_similar_users_keys[i]]\n",
    "\n",
    "        user2_rating = review_data2_dict[(most_similar_users_keys[i], business_id)]\n",
    "        \n",
    "        user2_mean = getUA(user_data_g9[most_similar_users_keys[i]])\n",
    "        #####\n",
    "        temp_numerator += similarity_user_user2 * (user2_rating - user2_mean)\n",
    "        temp_denominator += similarity_user_user2\n",
    "    \n",
    "    p += ( temp_numerator / temp_denominator )\n",
    "    return p"
   ]
  },
  {
   "cell_type": "code",
   "execution_count": 12,
   "metadata": {
    "collapsed": true
   },
   "outputs": [],
   "source": [
    "##### 4. Item-based Collaborative Filtering (ΙCF) #####\n",
    "\n",
    "def cosineSimilarity(array1, array2):\n",
    "    tempArray = [array1, array2]\n",
    "    return cossim.cosine_similarity(tempArray)[0,1]"
   ]
  },
  {
   "cell_type": "code",
   "execution_count": 13,
   "metadata": {
    "collapsed": true,
    "scrolled": true
   },
   "outputs": [],
   "source": [
    "def mostSimilarBusinesses(user, business, k):\n",
    "    user_id = user_data_g9.index(user)\n",
    "    business_id = business_data_g9.index(business)\n",
    "    temp_similarity_dict = {}\n",
    "    \n",
    "    tempArray = []\n",
    "    tempArray2 = []\n",
    "    tempArray2 = M[user_id].toarray().tolist()[0]\n",
    "    for i in range(len(tempArray2)):\n",
    "        if(tempArray2[i] > 0):\n",
    "            tempArray.append(i)\n",
    "    \n",
    "    for i in tempArray:\n",
    "        temp_cosine_similarity = cosineSimilarity(M.T[business_id].toarray().tolist()[0], M.T[i].toarray().tolist()[0])### Find something faster for this one\n",
    "        temp_similarity_dict[i] = temp_cosine_similarity\n",
    "    k_top_items = heapq.nlargest(n=k, iterable=temp_similarity_dict.items(), key=itemgetter(1))\n",
    "    return dict(k_top_items)"
   ]
  },
  {
   "cell_type": "code",
   "execution_count": 14,
   "metadata": {
    "collapsed": true
   },
   "outputs": [],
   "source": [
    "def equationICF(user, business, k):\n",
    "    user_id = user_data_g9.index(user)\n",
    "    business_id = business_data_g9.index(business)\n",
    "    p = 0\n",
    "    temp_numerator = 0\n",
    "    temp_denominator = 0\n",
    "    most_similar_businesses = mostSimilarBusinesses(user, business, k)\n",
    "    most_similar_businesses_keys = list(most_similar_businesses.keys())\n",
    "    \n",
    "    range_of_most_similar_businesses = len(most_similar_businesses_keys)\n",
    "    \n",
    "    for i in range(range_of_most_similar_businesses):\n",
    "        similarity_business_business2 = 0\n",
    "        business2_rating = 0\n",
    "        \n",
    "        similarity_business_business2 = most_similar_businesses[most_similar_businesses_keys[i]]\n",
    "\n",
    "        business2_rating = review_data2_dict[(user_id, most_similar_businesses_keys[i])]\n",
    "        \n",
    "        temp_numerator += similarity_business_business2 * business2_rating\n",
    "        temp_denominator += similarity_business_business2\n",
    "        \n",
    "    p += ( temp_numerator / temp_denominator )\n",
    "    return p"
   ]
  },
  {
   "cell_type": "code",
   "execution_count": 15,
   "metadata": {
    "collapsed": true
   },
   "outputs": [],
   "source": [
    "####### 5. Singular Value Decomposition (SVD) #######\n",
    "LA = np.linalg\n",
    "tempArray = np.array(M.toarray().tolist())\n",
    "U, s, Vh = LA.svd(tempArray, full_matrices=False)\n",
    "\n",
    "def plotSfromMatrixSVD():\n",
    "    plt.figure(figsize=(12,8))\n",
    "    plt.plot(s[:])\n",
    "    plt.ylabel('eigenvalue value')\n",
    "    plt.xlabel('number of eigenvalues')\n",
    "\n",
    "def matrixSVD(k):\n",
    "    s[k:] = 0\n",
    "    new_tempArray = np.dot(U, np.dot(np.diag(s), Vh))\n",
    "    return new_tempArray   "
   ]
  },
  {
   "cell_type": "code",
   "execution_count": 16,
   "metadata": {},
   "outputs": [
    {
     "data": {
      "image/png": "[encoded data removed]",
      "text/plain": [
       "<matplotlib.figure.Figure at 0x7f52aba952b0>"
      ]
     },
     "metadata": {},
     "output_type": "display_data"
    }
   ],
   "source": [
    "plotSfromMatrixSVD()#best results when k=2 or somewhere (0,1000)"
   ]
  },
  {
   "cell_type": "code",
   "execution_count": 17,
   "metadata": {
    "collapsed": true
   },
   "outputs": [],
   "source": [
    "matrix_svd = []\n",
    "def setMatrixSVD(k):\n",
    "    return matrixSVD(k)"
   ]
  },
  {
   "cell_type": "code",
   "execution_count": 18,
   "metadata": {
    "collapsed": true
   },
   "outputs": [],
   "source": [
    "def equationSVD(user, business):\n",
    "    user_id = user_data_g9.index(user)\n",
    "    business_id = business_data_g9.index(business)\n",
    "    \n",
    "    return matrix_svd[user_id][business_id]"
   ]
  },
  {
   "cell_type": "code",
   "execution_count": 19,
   "metadata": {
    "collapsed": true
   },
   "outputs": [],
   "source": [
    "################## (Root Mean Square Error) #################################"
   ]
  },
  {
   "cell_type": "code",
   "execution_count": 20,
   "metadata": {
    "collapsed": true
   },
   "outputs": [],
   "source": [
    "number_of_ratings = 10\n",
    "number_of_k_values = 9\n",
    "k_values = []\n",
    "\n",
    "for i in range(number_of_k_values):\n",
    "    k_values.append(int(round(np.exp(i))))"
   ]
  },
  {
   "cell_type": "code",
   "execution_count": 21,
   "metadata": {},
   "outputs": [],
   "source": [
    "sample_info = []\n",
    "random_ps10_UCF = []\n",
    "random_ps10_ICF = []\n",
    "\n",
    "for i in range(number_of_ratings):\n",
    "    random_ps10_id = random.choice(range(len(random_ps10) + 1))\n",
    "    sample_info.append(random_ps10_id)\n",
    "\n",
    "for i in range(number_of_ratings):\n",
    "    temp_random_ps10_UCF = []\n",
    "    temp_random_ps10_ICF = []\n",
    "    for j in range(number_of_k_values):\n",
    "        k_value_aka_rounded_exp = k_values[j]\n",
    "        temp_random_ps10_UCF.append(equationUCF(random_ps10[sample_info[i]][0], random_ps10[sample_info[i]][1], k_value_aka_rounded_exp))\n",
    "        temp_random_ps10_ICF.append(equationICF(random_ps10[sample_info[i]][0], random_ps10[sample_info[i]][1], k_value_aka_rounded_exp))\n",
    "    random_ps10_UCF.append(temp_random_ps10_UCF)\n",
    "    random_ps10_ICF.append(temp_random_ps10_ICF)"
   ]
  },
  {
   "cell_type": "code",
   "execution_count": 22,
   "metadata": {
    "collapsed": true
   },
   "outputs": [],
   "source": [
    "random_ps10_UA = []\n",
    "random_ps10_BA = []\n",
    "\n",
    "for i in range(number_of_ratings):\n",
    "    temp_random_ps10_UA = []\n",
    "    temp_random_ps10_BA = []\n",
    "    for j in range(number_of_k_values):\n",
    "        temp_random_ps10_UA.append(getUA(random_ps10[sample_info[i]][0]))\n",
    "        temp_random_ps10_BA.append(getBA(random_ps10[sample_info[i]][1]))\n",
    "    random_ps10_UA.append(temp_random_ps10_UA)\n",
    "    random_ps10_BA.append(temp_random_ps10_BA)"
   ]
  },
  {
   "cell_type": "code",
   "execution_count": 23,
   "metadata": {
    "collapsed": true
   },
   "outputs": [],
   "source": [
    "random_ps10_SVD = []\n",
    "\n",
    "for i in range(number_of_ratings):\n",
    "    temp_random_ps10_SVD = []\n",
    "    for j in range(number_of_k_values):\n",
    "        temp_random_ps10_SVD2 = []\n",
    "        temp_random_ps10_SVD.append(temp_random_ps10_SVD2)\n",
    "    random_ps10_SVD.append(temp_random_ps10_SVD)"
   ]
  },
  {
   "cell_type": "code",
   "execution_count": 24,
   "metadata": {
    "collapsed": true
   },
   "outputs": [],
   "source": [
    "for i in range(number_of_k_values):\n",
    "    k_value_aka_rounded_exp = k_values[i]\n",
    "    matrix_svd = setMatrixSVD(k_value_aka_rounded_exp)\n",
    "    for j in range(number_of_ratings):\n",
    "        random_ps10_SVD[j][i].append(equationSVD(random_ps10[sample_info[j]][0], random_ps10[sample_info[j]][1]))"
   ]
  },
  {
   "cell_type": "code",
   "execution_count": 25,
   "metadata": {
    "collapsed": true
   },
   "outputs": [],
   "source": [
    "array_p = []\n",
    "\n",
    "for i in sample_info:\n",
    "    array_p.append(random_ps10[i][2])"
   ]
  },
  {
   "cell_type": "code",
   "execution_count": 26,
   "metadata": {
    "collapsed": true
   },
   "outputs": [],
   "source": [
    "array_r_UCF = []\n",
    "\n",
    "for i in range(number_of_k_values):\n",
    "    temp_array_r_UCF = []\n",
    "    for j in range(number_of_ratings):\n",
    "        temp_array_r_UCF.append(random_ps10_UCF[j][i])\n",
    "    array_r_UCF.append(temp_array_r_UCF)"
   ]
  },
  {
   "cell_type": "code",
   "execution_count": 27,
   "metadata": {
    "collapsed": true
   },
   "outputs": [],
   "source": [
    "array_r_ICF = []\n",
    "\n",
    "for i in range(number_of_k_values):\n",
    "    temp_array_r_ICF = []\n",
    "    for j in range(number_of_ratings):\n",
    "        temp_array_r_ICF.append(random_ps10_ICF[j][i])\n",
    "    array_r_ICF.append(temp_array_r_ICF)"
   ]
  },
  {
   "cell_type": "code",
   "execution_count": 28,
   "metadata": {
    "collapsed": true
   },
   "outputs": [],
   "source": [
    "array_r_UA = []\n",
    "array_r_BA = []\n",
    "\n",
    "for i in range(number_of_k_values):\n",
    "    temp_array_r_UA = []\n",
    "    temp_array_r_BA = []\n",
    "    for j in range(number_of_ratings):\n",
    "        temp_array_r_UA.append(random_ps10_UA[j][i])\n",
    "        temp_array_r_BA.append(random_ps10_BA[j][i])\n",
    "    array_r_UA.append(temp_array_r_UA)\n",
    "    array_r_BA.append(temp_array_r_BA)"
   ]
  },
  {
   "cell_type": "code",
   "execution_count": 29,
   "metadata": {
    "collapsed": true
   },
   "outputs": [],
   "source": [
    "array_r_SVD = []\n",
    "\n",
    "for i in range(number_of_k_values):\n",
    "    temp_array_r_SVD = []\n",
    "    for j in range(number_of_ratings):\n",
    "        temp_array_r_SVD.append(random_ps10_SVD[j][i][0])\n",
    "    array_r_SVD.append(temp_array_r_SVD)"
   ]
  },
  {
   "cell_type": "code",
   "execution_count": 30,
   "metadata": {
    "collapsed": true
   },
   "outputs": [],
   "source": [
    "def calculateRMSE(array_r, array_p):\n",
    "    n = len(array_r)\n",
    "    temp_sum = 0\n",
    "    for i in range(n):\n",
    "        temp_sub = array_r[i] - array_p[i]\n",
    "        temp_sum += pow(temp_sub, 2)\n",
    "    return math.sqrt(temp_sum/n)### TODO test it"
   ]
  },
  {
   "cell_type": "code",
   "execution_count": 31,
   "metadata": {
    "collapsed": true
   },
   "outputs": [],
   "source": [
    "array_r_UCF_RMSE = []\n",
    "array_r_ICF_RMSE = []\n",
    "array_r_UA_RMSE = []\n",
    "array_r_BA_RMSE = []\n",
    "array_r_SVD_RMSE = []\n",
    "\n",
    "\n",
    "for i in range(number_of_k_values):\n",
    "    array_r_UCF_RMSE.append( calculateRMSE(array_r_UCF[i], array_p) )\n",
    "    array_r_ICF_RMSE.append( calculateRMSE(array_r_ICF[i], array_p) )\n",
    "    array_r_UA_RMSE.append( calculateRMSE(array_r_UA[i], array_p) )\n",
    "    array_r_BA_RMSE.append( calculateRMSE(array_r_BA[i], array_p) )\n",
    "    array_r_SVD_RMSE.append( calculateRMSE(array_r_SVD[i], array_p) )"
   ]
  },
  {
   "cell_type": "code",
   "execution_count": 32,
   "metadata": {},
   "outputs": [
    {
     "data": {
      "text/plain": [
       "[<matplotlib.lines.Line2D at 0x7f52a1970c50>]"
      ]
     },
     "execution_count": 32,
     "metadata": {},
     "output_type": "execute_result"
    },
    {
     "data": {
      "image/png": "[encoded data removed]",
      "text/plain": [
       "<matplotlib.figure.Figure at 0x7f52a45bef60>"
      ]
     },
     "metadata": {},
     "output_type": "display_data"
    }
   ],
   "source": [
    "plt.figure(figsize=(12,8))\n",
    "plt.plot(array_r_UCF_RMSE[:])"
   ]
  },
  {
   "cell_type": "code",
   "execution_count": 33,
   "metadata": {},
   "outputs": [
    {
     "data": {
      "text/plain": [
       "[<matplotlib.lines.Line2D at 0x7f52a24b3fd0>]"
      ]
     },
     "execution_count": 33,
     "metadata": {},
     "output_type": "execute_result"
    },
    {
     "data": {
      "image/png": "[encoded data removed]",
      "text/plain": [
       "<matplotlib.figure.Figure at 0x7f52aa5e9c18>"
      ]
     },
     "metadata": {},
     "output_type": "display_data"
    }
   ],
   "source": [
    "plt.figure(figsize=(12,8))\n",
    "plt.plot(array_r_ICF_RMSE[:])"
   ]
  },
  {
   "cell_type": "code",
   "execution_count": 34,
   "metadata": {},
   "outputs": [
    {
     "data": {
      "text/plain": [
       "[<matplotlib.lines.Line2D at 0x7f52a41a2cc0>]"
      ]
     },
     "execution_count": 34,
     "metadata": {},
     "output_type": "execute_result"
    },
    {
     "data": {
      "image/png": "[encoded data removed]",
      "text/plain": [
       "<matplotlib.figure.Figure at 0x7f52a433d668>"
      ]
     },
     "metadata": {},
     "output_type": "display_data"
    }
   ],
   "source": [
    "plt.figure(figsize=(12,8))\n",
    "plt.plot(array_r_UA_RMSE[:])"
   ]
  },
  {
   "cell_type": "code",
   "execution_count": 35,
   "metadata": {},
   "outputs": [
    {
     "data": {
      "text/plain": [
       "[<matplotlib.lines.Line2D at 0x7f52a1df34e0>]"
      ]
     },
     "execution_count": 35,
     "metadata": {},
     "output_type": "execute_result"
    },
    {
     "data": {
      "image/png": "[encoded data removed]",
      "text/plain": [
       "<matplotlib.figure.Figure at 0x7f52e45fb7f0>"
      ]
     },
     "metadata": {},
     "output_type": "display_data"
    }
   ],
   "source": [
    "plt.figure(figsize=(12,8))\n",
    "plt.plot(array_r_BA_RMSE[:])"
   ]
  },
  {
   "cell_type": "code",
   "execution_count": 36,
   "metadata": {},
   "outputs": [
    {
     "data": {
      "text/plain": [
       "[<matplotlib.lines.Line2D at 0x7f5293bb1a58>]"
      ]
     },
     "execution_count": 36,
     "metadata": {},
     "output_type": "execute_result"
    },
    {
     "data": {
      "image/png": "[encoded data removed]",
      "text/plain": [
       "<matplotlib.figure.Figure at 0x7f52a31a1518>"
      ]
     },
     "metadata": {},
     "output_type": "display_data"
    }
   ],
   "source": [
    "plt.figure(figsize=(12,8))\n",
    "plt.plot(array_r_SVD_RMSE[:])"
   ]
  },
  {
   "cell_type": "code",
   "execution_count": null,
   "metadata": {
    "collapsed": true
   },
   "outputs": [],
   "source": []
  }
 ],
 "metadata": {
  "kernelspec": {
   "display_name": "Python 3",
   "language": "python",
   "name": "python3"
  },
  "language_info": {
   "codemirror_mode": {
    "name": "ipython",
    "version": 3
   },
   "file_extension": ".py",
   "mimetype": "text/x-python",
   "name": "python",
   "nbconvert_exporter": "python",
   "pygments_lexer": "ipython3",
   "version": "3.6.2"
  }
 },
 "nbformat": 4,
 "nbformat_minor": 2
}
